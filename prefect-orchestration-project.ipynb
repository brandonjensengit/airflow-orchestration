{
 "cells": [
  {
   "cell_type": "markdown",
   "id": "4cd6b36c-6804-48d7-bbe9-5536cf38ca49",
   "metadata": {},
   "source": [
    "# Current Top 10 TV Shows Notebook"
   ]
  },
  {
   "cell_type": "markdown",
   "id": "dffc4595-632e-4f47-a5fd-9fe1f1628afe",
   "metadata": {},
   "source": [
    "## Imports and global variables"
   ]
  },
  {
   "cell_type": "code",
   "execution_count": 39,
   "id": "4b6f1353-b81d-4397-825a-6dc0501022e5",
   "metadata": {},
   "outputs": [],
   "source": [
    "import pandas as pd"
   ]
  },
  {
   "cell_type": "code",
   "execution_count": 40,
   "id": "1793f33d-b65c-4b87-aa4e-b22063f9f2af",
   "metadata": {},
   "outputs": [],
   "source": [
    "import requests"
   ]
  },
  {
   "cell_type": "code",
   "execution_count": 48,
   "id": "0bacb250-0662-4fe4-9c29-8f41b24e74b4",
   "metadata": {},
   "outputs": [],
   "source": [
    "api_key = 'f2bc37fe017c9c8ec2656d2c44dc3074'"
   ]
  },
  {
   "cell_type": "code",
   "execution_count": 49,
   "id": "5f52ef43-63c6-49ed-9157-cf0e313951cf",
   "metadata": {},
   "outputs": [],
   "source": [
    "# Base URL for top tv shows.\n",
    "base_url = 'https://api.themoviedb.org/3/trending/tv/week'"
   ]
  },
  {
   "cell_type": "code",
   "execution_count": 50,
   "id": "e29ef3bb-8080-4508-b1c1-47733289443f",
   "metadata": {},
   "outputs": [],
   "source": [
    "params = {\n",
    "    'api_key': api_key\n",
    "}"
   ]
  },
  {
   "cell_type": "code",
   "execution_count": 60,
   "id": "8d7c6f0e-2e81-4c5f-b11c-e1544edb4a0d",
   "metadata": {},
   "outputs": [],
   "source": [
    "response = requests.get(base_url, params=params)"
   ]
  },
  {
   "cell_type": "markdown",
   "id": "c35d684c-f183-4fdc-aa82-70d5ec0b2659",
   "metadata": {},
   "source": [
    "## Pull data and create dataframe"
   ]
  },
  {
   "cell_type": "code",
   "execution_count": 61,
   "id": "db1a122e-5786-4b32-9520-16d2bdccbc40",
   "metadata": {},
   "outputs": [],
   "source": [
    "if response.status_code == 200:\n",
    "    data = response.json()\n",
    "    top_10_tv_shows = data['results'][:10]\n",
    "    df_tv_shows = pd.DataFrame(top_10_tv_shows)"
   ]
  },
  {
   "cell_type": "code",
   "execution_count": 62,
   "id": "292e8dc7-c4ab-431c-8863-bd7403ee444d",
   "metadata": {},
   "outputs": [
    {
     "data": {
      "text/html": [
       "<div>\n",
       "<style scoped>\n",
       "    .dataframe tbody tr th:only-of-type {\n",
       "        vertical-align: middle;\n",
       "    }\n",
       "\n",
       "    .dataframe tbody tr th {\n",
       "        vertical-align: top;\n",
       "    }\n",
       "\n",
       "    .dataframe thead th {\n",
       "        text-align: right;\n",
       "    }\n",
       "</style>\n",
       "<table border=\"1\" class=\"dataframe\">\n",
       "  <thead>\n",
       "    <tr style=\"text-align: right;\">\n",
       "      <th></th>\n",
       "      <th>adult</th>\n",
       "      <th>backdrop_path</th>\n",
       "      <th>id</th>\n",
       "      <th>name</th>\n",
       "      <th>original_language</th>\n",
       "      <th>original_name</th>\n",
       "      <th>overview</th>\n",
       "      <th>poster_path</th>\n",
       "      <th>media_type</th>\n",
       "      <th>genre_ids</th>\n",
       "      <th>popularity</th>\n",
       "      <th>first_air_date</th>\n",
       "      <th>vote_average</th>\n",
       "      <th>vote_count</th>\n",
       "      <th>origin_country</th>\n",
       "    </tr>\n",
       "  </thead>\n",
       "  <tbody>\n",
       "    <tr>\n",
       "      <th>0</th>\n",
       "      <td>False</td>\n",
       "      <td>/u3ySnWqSjM3jedYgJZTR7RWRDDm.jpg</td>\n",
       "      <td>122226</td>\n",
       "      <td>Echo</td>\n",
       "      <td>en</td>\n",
       "      <td>Echo</td>\n",
       "      <td>Pursued by Wilson Fisk's criminal empire, Maya...</td>\n",
       "      <td>/4m2kop1q6OLnOz7MWZmdzZbSNkh.jpg</td>\n",
       "      <td>tv</td>\n",
       "      <td>[18, 80, 10759]</td>\n",
       "      <td>564.483</td>\n",
       "      <td>2024-01-09</td>\n",
       "      <td>6.245</td>\n",
       "      <td>194</td>\n",
       "      <td>[US]</td>\n",
       "    </tr>\n",
       "    <tr>\n",
       "      <th>1</th>\n",
       "      <td>False</td>\n",
       "      <td>/wrhLyiY7ksW0fQCqNpa52qiOAH8.jpg</td>\n",
       "      <td>108978</td>\n",
       "      <td>Reacher</td>\n",
       "      <td>en</td>\n",
       "      <td>Reacher</td>\n",
       "      <td>Jack Reacher, a veteran military police invest...</td>\n",
       "      <td>/jFuH0md41x5mB4qj5344mSmtHrO.jpg</td>\n",
       "      <td>tv</td>\n",
       "      <td>[10759, 80, 18]</td>\n",
       "      <td>1838.809</td>\n",
       "      <td>2022-02-03</td>\n",
       "      <td>8.090</td>\n",
       "      <td>1247</td>\n",
       "      <td>[US]</td>\n",
       "    </tr>\n",
       "    <tr>\n",
       "      <th>2</th>\n",
       "      <td>False</td>\n",
       "      <td>/siA2d4PNn4JVFZAwfIYx4pnKCaK.jpg</td>\n",
       "      <td>46648</td>\n",
       "      <td>True Detective</td>\n",
       "      <td>en</td>\n",
       "      <td>True Detective</td>\n",
       "      <td>An American anthology police detective series ...</td>\n",
       "      <td>/cuV2O5ZyDLHSOWzg3nLVljp1ubw.jpg</td>\n",
       "      <td>tv</td>\n",
       "      <td>[18]</td>\n",
       "      <td>1812.166</td>\n",
       "      <td>2014-01-12</td>\n",
       "      <td>8.321</td>\n",
       "      <td>2951</td>\n",
       "      <td>[US]</td>\n",
       "    </tr>\n",
       "    <tr>\n",
       "      <th>3</th>\n",
       "      <td>False</td>\n",
       "      <td>/lghMCJJ7u2fIHMVtsrsMCV9OTsI.jpg</td>\n",
       "      <td>202411</td>\n",
       "      <td>Monarch: Legacy of Monsters</td>\n",
       "      <td>en</td>\n",
       "      <td>Monarch: Legacy of Monsters</td>\n",
       "      <td>After surviving Godzilla's attack on San Franc...</td>\n",
       "      <td>/uwrQHMnXD2DA1rvaMZk4pavZ3CY.jpg</td>\n",
       "      <td>tv</td>\n",
       "      <td>[10759, 18, 10765]</td>\n",
       "      <td>876.138</td>\n",
       "      <td>2023-11-16</td>\n",
       "      <td>8.111</td>\n",
       "      <td>487</td>\n",
       "      <td>[US]</td>\n",
       "    </tr>\n",
       "    <tr>\n",
       "      <th>4</th>\n",
       "      <td>False</td>\n",
       "      <td>/nI8uQAU8KFXYIIRz6jdL0pmC3eL.jpg</td>\n",
       "      <td>103540</td>\n",
       "      <td>Percy Jackson and the Olympians</td>\n",
       "      <td>en</td>\n",
       "      <td>Percy Jackson and the Olympians</td>\n",
       "      <td>Percy Jackson is on a dangerous quest. Outrunn...</td>\n",
       "      <td>/ia2RRScDR0X7Elw6S49u3peLJTx.jpg</td>\n",
       "      <td>tv</td>\n",
       "      <td>[10759, 10765, 18, 10751]</td>\n",
       "      <td>722.624</td>\n",
       "      <td>2023-12-19</td>\n",
       "      <td>7.600</td>\n",
       "      <td>204</td>\n",
       "      <td>[US]</td>\n",
       "    </tr>\n",
       "  </tbody>\n",
       "</table>\n",
       "</div>"
      ],
      "text/plain": [
       "   adult                     backdrop_path      id  \\\n",
       "0  False  /u3ySnWqSjM3jedYgJZTR7RWRDDm.jpg  122226   \n",
       "1  False  /wrhLyiY7ksW0fQCqNpa52qiOAH8.jpg  108978   \n",
       "2  False  /siA2d4PNn4JVFZAwfIYx4pnKCaK.jpg   46648   \n",
       "3  False  /lghMCJJ7u2fIHMVtsrsMCV9OTsI.jpg  202411   \n",
       "4  False  /nI8uQAU8KFXYIIRz6jdL0pmC3eL.jpg  103540   \n",
       "\n",
       "                              name original_language  \\\n",
       "0                             Echo                en   \n",
       "1                          Reacher                en   \n",
       "2                   True Detective                en   \n",
       "3      Monarch: Legacy of Monsters                en   \n",
       "4  Percy Jackson and the Olympians                en   \n",
       "\n",
       "                     original_name  \\\n",
       "0                             Echo   \n",
       "1                          Reacher   \n",
       "2                   True Detective   \n",
       "3      Monarch: Legacy of Monsters   \n",
       "4  Percy Jackson and the Olympians   \n",
       "\n",
       "                                            overview  \\\n",
       "0  Pursued by Wilson Fisk's criminal empire, Maya...   \n",
       "1  Jack Reacher, a veteran military police invest...   \n",
       "2  An American anthology police detective series ...   \n",
       "3  After surviving Godzilla's attack on San Franc...   \n",
       "4  Percy Jackson is on a dangerous quest. Outrunn...   \n",
       "\n",
       "                        poster_path media_type                  genre_ids  \\\n",
       "0  /4m2kop1q6OLnOz7MWZmdzZbSNkh.jpg         tv            [18, 80, 10759]   \n",
       "1  /jFuH0md41x5mB4qj5344mSmtHrO.jpg         tv            [10759, 80, 18]   \n",
       "2  /cuV2O5ZyDLHSOWzg3nLVljp1ubw.jpg         tv                       [18]   \n",
       "3  /uwrQHMnXD2DA1rvaMZk4pavZ3CY.jpg         tv         [10759, 18, 10765]   \n",
       "4  /ia2RRScDR0X7Elw6S49u3peLJTx.jpg         tv  [10759, 10765, 18, 10751]   \n",
       "\n",
       "   popularity first_air_date  vote_average  vote_count origin_country  \n",
       "0     564.483     2024-01-09         6.245         194           [US]  \n",
       "1    1838.809     2022-02-03         8.090        1247           [US]  \n",
       "2    1812.166     2014-01-12         8.321        2951           [US]  \n",
       "3     876.138     2023-11-16         8.111         487           [US]  \n",
       "4     722.624     2023-12-19         7.600         204           [US]  "
      ]
     },
     "execution_count": 62,
     "metadata": {},
     "output_type": "execute_result"
    }
   ],
   "source": [
    "df_tv_shows.head()"
   ]
  },
  {
   "cell_type": "code",
   "execution_count": null,
   "id": "49da3076-5285-4dff-8ba9-71abb462601f",
   "metadata": {},
   "outputs": [],
   "source": []
  }
 ],
 "metadata": {
  "kernelspec": {
   "display_name": "Python 3 (ipykernel)",
   "language": "python",
   "name": "python3"
  },
  "language_info": {
   "codemirror_mode": {
    "name": "ipython",
    "version": 3
   },
   "file_extension": ".py",
   "mimetype": "text/x-python",
   "name": "python",
   "nbconvert_exporter": "python",
   "pygments_lexer": "ipython3",
   "version": "3.10.13"
  }
 },
 "nbformat": 4,
 "nbformat_minor": 5
}
